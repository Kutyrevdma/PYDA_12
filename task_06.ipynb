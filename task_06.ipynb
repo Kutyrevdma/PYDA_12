{
 "cells": [
  {
   "cell_type": "code",
   "execution_count": null,
   "metadata": {},
   "outputs": [],
   "source": [
    "from datetime import datetime as dt\n",
    "from datetime import timedelta"
   ]
  },
  {
   "cell_type": "code",
   "execution_count": null,
   "metadata": {},
   "outputs": [],
   "source": [
    "# Задание 1. Для каждой газеты написать свой формат.\n",
    "# Способ в лоб\n",
    "date = ['The Moscow Times - Wednesday, October 2, 2002',\n",
    "        'The Guardian - Friday, 11.10.13',\n",
    "        'Daily News - Thursday, 18 August 1977']\n",
    "\n",
    "tmt = dt.strptime(date[0][19:], '%A, %B %d, %Y')\n",
    "print(f'Формат для {date[0][:19]}{tmt}')\n",
    "\n",
    "tg = dt.strptime(date[1][15:],'%A, %d.%m.%y' )\n",
    "print(f'Формат для {date[1][:15]}{tg}')\n",
    "\n",
    "dn = dt.strptime(date[2][13:], '%A, %d %B %Y' )\n",
    "print(f'Формат для {date[2][:13]}{dn}')"
   ]
  },
  {
   "cell_type": "code",
   "execution_count": null,
   "metadata": {},
   "outputs": [],
   "source": [
    "# Задание 1. Способ через функцию.\n",
    "date = ['The Moscow Times - Wednesday, October 2, 2002',\n",
    "        'The Guardian - Friday, 11.10.13',\n",
    "        'Daily News - Thursday, 18 August 1977']\n",
    "\n",
    "def str_to_date(date):\n",
    "    for format_ in ['%A, %B %d, %Y', '%A, %d.%m.%y', '%A, %d %B %Y', '%Y-%m-%d']:\n",
    "        try:\n",
    "            return dt.strptime(date, format_)\n",
    "        except:\n",
    "            continue\n",
    "        \n",
    "    print('Кривая дата')\n",
    "\n",
    "for newspapers in date:\n",
    "    newspaper = newspapers.split('-')[1].strip()\n",
    "    print(f'Формат для {newspapers.split(\"-\")[0]}:{str_to_date(newspaper)}')"
   ]
  },
  {
   "cell_type": "code",
   "execution_count": null,
   "metadata": {},
   "outputs": [],
   "source": [
    "# Задание 2\n",
    "# Дан поток дат в формате YYYY-MM-DD, в которых встречаются некорректные значения:\n",
    "stream = ['2018-04-02', '2018-02-29', '2018-19-02']\n",
    "\n",
    "# Напишите функцию, которая проверяет эти даты на корректность. \n",
    "# Т. е. для каждой даты возвращает True (дата корректна) или False (некорректная дата).\n",
    "\n",
    "for date in stream:\n",
    "    try:\n",
    "        dt.strptime(date, '%Y-%m-%d')\n",
    "        print(f'{date} - True')\n",
    "    except:\n",
    "        print(f'{date} - False')"
   ]
  },
  {
   "cell_type": "code",
   "execution_count": null,
   "metadata": {},
   "outputs": [],
   "source": [
    "# Задание 3\n",
    "# Напишите функцию date_range, которая возвращает список дат за период от start_date до end_date. \n",
    "# Даты должны вводиться в формате YYYY-MM-DD. В случае неверного формата \n",
    "# или при start_date > end_date должен возвращаться пустой список.\n",
    "\n",
    "start_date = '2000-01-01'\n",
    "end_date = '2000-01-05'\n",
    "\n",
    "def date_range(start, end):\n",
    "    \"\"\"\n",
    "    date_range(start, end) - Функция, выводит на экран список дат за период от start до end\n",
    "    \n",
    "    start - '2000-01-01\n",
    "    end   - '2000-01-05\n",
    "    \n",
    "    Пример работы:\n",
    "    date_range('2000-01-01', '2000-01-05')\n",
    "    \n",
    "    >>> 2000-01-01\n",
    "    >>> 2000-01-02\n",
    "    >>> 2000-01-03\n",
    "    >>> 2000-01-04\n",
    "    >>> 2000-01-05\n",
    "    \"\"\"\n",
    "    try:\n",
    "        start = dt.strptime(start, '%Y-%m-%d')\n",
    "        end = dt.strptime(end, '%Y-%m-%d')\n",
    "        print(start.date())\n",
    "    except:\n",
    "        return print(f'Ошибка в формате даты. start: {start} end: {end}')\n",
    "    while start != end:\n",
    "        if start > end:\n",
    "            print(f'start > end')\n",
    "            break\n",
    "        start += timedelta(days=1)\n",
    "        print(start.date())\n",
    "\n",
    "date_range(start_date, end_date)"
   ]
  }
 ],
 "metadata": {
  "kernelspec": {
   "display_name": "Python 3",
   "language": "python",
   "name": "python3"
  },
  "language_info": {
   "codemirror_mode": {
    "name": "ipython",
    "version": 3
   },
   "file_extension": ".py",
   "mimetype": "text/x-python",
   "name": "python",
   "nbconvert_exporter": "python",
   "pygments_lexer": "ipython3",
   "version": "3.7.6"
  }
 },
 "nbformat": 4,
 "nbformat_minor": 4
}
