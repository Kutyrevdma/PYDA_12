{
 "cells": [
  {
   "cell_type": "code",
   "execution_count": null,
   "metadata": {},
   "outputs": [],
   "source": [
    "import numpy as np"
   ]
  },
  {
   "cell_type": "code",
   "execution_count": null,
   "metadata": {},
   "outputs": [],
   "source": [
    "# Задание 1. Создание numpy array с элементами от числа N до 0 \n",
    "\n",
    "N = 10\n",
    "np.arange(N)[::-1]"
   ]
  },
  {
   "cell_type": "code",
   "execution_count": null,
   "metadata": {},
   "outputs": [],
   "source": [
    "# Задание 2. Создайте диагональную матрицу с элементами от N до 0. Посчитайте сумму ее значений на диагонали.\n",
    "\n",
    "sum_ = 0\n",
    "sum([sum_ + i[n] for n, i in enumerate(np.diag(np.arange(N)[::-1]))])"
   ]
  },
  {
   "cell_type": "code",
   "execution_count": null,
   "metadata": {},
   "outputs": [],
   "source": [
    "# Задание 3. Решите систему уравнений.\n",
    "\n",
    "\"\"\"\n",
    "4x + 2y + z = 4 \\\n",
    "x + 3y = 12 \\\n",
    "5y + 4z = -3 \\\n",
    "\"\"\"\n",
    "\n",
    "a = np.array( [[4, 2, 1], [1, 3, 0], [0, 5, 4]] )\n",
    "b = np.array( [4, 12, -3])\n",
    "\n",
    "print(np.allclose( np.dot(a, np.linalg.solve(a, b)), b), end='\\n\\n')\n",
    "\n",
    "print(f'x = {np.linalg.solve(a, b)[0]}\\ny = {np.linalg.solve(a, b)[1]}\\nz = {np.linalg.solve(a, b)[2]}')\n",
    "\n",
    "np.linalg.solve(a, b)\n"
   ]
  },
  {
   "cell_type": "code",
   "execution_count": null,
   "metadata": {},
   "outputs": [],
   "source": [
    "# Задание 4. Найти похожего пользователя\n",
    "\n",
    "users_stats = np.array(\n",
    "    [\n",
    "        [2, 1, 0, 0, 0, 0],\n",
    "        [1, 1, 2, 1, 0, 0],\n",
    "        [2, 0, 1, 0, 0, 0],\n",
    "        [1, 1, 2, 1, 0, 1],\n",
    "        [0, 0, 1, 2, 0, 0],\n",
    "        [0, 0, 0, 0, 0, 5],\n",
    "        [1, 0, 0, 0, 0, 0],\n",
    "        [0, 1, 1, 0, 0, 0],\n",
    "        [0, 0, 0, 1, 1, 3],\n",
    "        [1, 0, 0, 2, 1, 4]\n",
    "    ], \n",
    "    np.int32\n",
    ")\n",
    "\n",
    "next_user_stats = np.array([0, 1, 2, 0, 0, 0])"
   ]
  },
  {
   "cell_type": "markdown",
   "metadata": {},
   "source": [
    "### Косинус угла между векторами\n",
    "\\begin{equation*}\n",
    "\\LARGE\n",
    "cos(\\vec{a}, \\vec{b}) = \\frac{\\vec{a} \\dot{} \\vec{b}}{|\\vec{a}| \\space |\\vec{b}|}\n",
    "\\end{equation*}"
   ]
  },
  {
   "cell_type": "code",
   "execution_count": null,
   "metadata": {},
   "outputs": [],
   "source": [
    "def cosine(a,b):\n",
    "    \"\"\"\n",
    "    Подсчет косинуса угла между векторами a, b по их координатам\n",
    "    \"\"\"\n",
    "    \n",
    "     # длины векторов\n",
    "    aLength = np.linalg.norm( a )\n",
    "    bLength = np.linalg.norm( b )\n",
    "    \n",
    "    return np.dot( a, b ) / ( aLength * bLength )"
   ]
  },
  {
   "cell_type": "code",
   "execution_count": null,
   "metadata": {},
   "outputs": [],
   "source": [
    "max_cos = 0\n",
    "\n",
    "for n, i in enumerate(users_stats, 1):\n",
    "    if max_cos < cosine(next_user_stats, i):\n",
    "        max_cos = cosine(next_user_stats, i)\n",
    "        person, matix = n, i\n",
    "        angle = round(np.arccos( cosine( next_user_stats, i ) ) * 360 / 2 / np.pi, 2)\n",
    "print(f'Похожий пользователь: {person}\\nЕго матрица: {matix}\\nКосинус угла между векторами: {max_cos}\\nУгол в градусах: {angle}')\n",
    "\n",
    "# А можно решить проще и быстрее\n",
    "max([cosine(next_user_stats, i) for i in users_stats])"
   ]
  }
 ],
 "metadata": {
  "kernelspec": {
   "display_name": "Python 3",
   "language": "python",
   "name": "python3"
  },
  "language_info": {
   "codemirror_mode": {
    "name": "ipython",
    "version": 3
   },
   "file_extension": ".py",
   "mimetype": "text/x-python",
   "name": "python",
   "nbconvert_exporter": "python",
   "pygments_lexer": "ipython3",
   "version": "3.7.6"
  }
 },
 "nbformat": 4,
 "nbformat_minor": 4
}
