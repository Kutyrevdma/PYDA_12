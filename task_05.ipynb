{
 "cells": [
  {
   "cell_type": "code",
   "execution_count": null,
   "metadata": {},
   "outputs": [],
   "source": [
    "import json"
   ]
  },
  {
   "cell_type": "code",
   "execution_count": null,
   "metadata": {},
   "outputs": [],
   "source": [
    "\"\"\"\n",
    "С 1 раза не так понял задачу...Думал, решить её необходимо так:\n",
    "\n",
    "with open(r'./task_05_data/purchases.txt', 'r', encoding='utf-8'):\n",
    "    with open(r'./task_05_data/visit_log.txt', 'r', encoding='utf-8'):\n",
    "        with open(r'./data/funnel.csv', 'r', encoding='utf-8'): \n",
    "        \n",
    "и уже тут искать и сранивать. Думаю, попробую самостоятельно проделать этот вариант.\n",
    "\"\"\" \n",
    "# with open(r'./data/purchase_log.txt', 'r', encoding='utf-8') as f:\n",
    "#     with open(r'./data/purchases.txt', 'w', encoding='utf-8') as fw:\n",
    "#         content = f.readlines() # Если я правильно понял, то нужно поместить так в оперативную память.\n",
    "#         for line in content:\n",
    "#             dict_ = json.loads(line)\n",
    "#             dict_ = {dict_['user_id']:dict_['category']}\n",
    "#             str_ = str(dict_) + '\\n'\n",
    "#             fw.write(str_)"
   ]
  },
  {
   "cell_type": "code",
   "execution_count": null,
   "metadata": {},
   "outputs": [],
   "source": [
    "# Задание 1. Переведите содержимое файла purchase_log.txt в словарь purchases вида: {‘1840e0b9d4’: ‘Продукты’, …}\n",
    "\n",
    "# Условие: содержимое purchase_log.txt помещается в оперативную память компьютера\n",
    "\n",
    "with open(r'./task_05_data/purchase_log.txt', 'r', encoding='utf-8') as f:\n",
    "    dict_ = dict()\n",
    "    for line in f:\n",
    "        line = json.loads(line)\n",
    "        dict_.update({line['user_id']:line['category']})"
   ]
  },
  {
   "cell_type": "code",
   "execution_count": null,
   "metadata": {},
   "outputs": [],
   "source": [
    "# Задание 2. Для каждого user_id в файле visit_log.csv определите третий столбец с категорией покупки.\n",
    "#Запишите в файл funnel.csv визиты из файла visit_log.csv, в которых были покупки с указанием категории.\n",
    "\n",
    "# Условие: содержимое visit_log.csv - нет; используйте только построчную обработку этого файла\n",
    "\n",
    "with open(r'./task_05_data/visit_log.csv', 'r', encoding='utf-8') as f:\n",
    "    with open(r'./task_05_data/filter.csv', 'w') as fw:\n",
    "\n",
    "        data_contex = list()\n",
    "        \n",
    "        header = f.readline().strip().split(',')\n",
    "        header.append('category')\n",
    "        header = (','.join(header) + '\\n')\n",
    "        fw.write(header)\n",
    "        \n",
    "        for line in f:\n",
    "            if 'context' in line:\n",
    "                line = line.strip().split(',')\n",
    "                user_id, sourse = line\n",
    "                if user_id in dict_:\n",
    "                    str_ = user_id + ',' + sourse + ',' + dict_[user_id] + '\\n'\n",
    "                    fw.write(str_)  "
   ]
  }
 ],
 "metadata": {
  "kernelspec": {
   "display_name": "Python 3",
   "language": "python",
   "name": "python3"
  },
  "language_info": {
   "codemirror_mode": {
    "name": "ipython",
    "version": 3
   },
   "file_extension": ".py",
   "mimetype": "text/x-python",
   "name": "python",
   "nbconvert_exporter": "python",
   "pygments_lexer": "ipython3",
   "version": "3.7.6"
  }
 },
 "nbformat": 4,
 "nbformat_minor": 4
}
