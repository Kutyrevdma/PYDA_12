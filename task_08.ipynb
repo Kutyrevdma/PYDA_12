{
 "cells": [
  {
   "cell_type": "code",
   "execution_count": null,
   "metadata": {},
   "outputs": [],
   "source": [
    "import re"
   ]
  },
  {
   "cell_type": "code",
   "execution_count": null,
   "metadata": {},
   "outputs": [],
   "source": [
    "# Задание № 1. Напишите функцию, которая принимает на вход строку и проверяет является ли она валидным транспортным номером\n",
    "car_id = 'АА000АА000'\n",
    "\n",
    "def check_car(car):\n",
    "    result = re.findall(r'(^[АВЕКМНОРСТУХ]{1}\\d{3}[АВЕКМНОРСТУХ]{2})(\\d{2,3}$)', car)\n",
    "    if result:\n",
    "         print(f'Результат: Номер {result[0][0]} валиден. Регион: {result[0][1]}')\n",
    "    else:\n",
    "        print('Номер не валиден')\n",
    "\n",
    "check_car(car_id)"
   ]
  },
  {
   "cell_type": "code",
   "execution_count": null,
   "metadata": {},
   "outputs": [],
   "source": [
    "# Задание № 2. Напишите функцию, которая будет удалять все последовательные повторы слов из заданной строки.\n",
    "\n",
    "some_string = 'Напишите функцию функцию, которая будет будет будет будет удалять все все все все последовательные \\\n",
    "повторы слов из из из из заданной строки строки при помощи регулярных выражений'\n",
    "\n",
    "def repeat(text):\n",
    "    regs = re.sub(r'(\\w+)(\\s+\\1)+', r'\\1', text)\n",
    "    print(regs)\n",
    "    \n",
    "repeat(some_string)"
   ]
  },
  {
   "cell_type": "code",
   "execution_count": null,
   "metadata": {},
   "outputs": [],
   "source": [
    "# Задание № 3. Напишите функцию, которая будет возвращать акроним по переданной в нее строке со словами.\n",
    "\n",
    "words = 'Внутренний Валовый Продукт'\n",
    "def acronym(word):\n",
    "    result = ''.join(re.findall(r'(\\b[\\w+])', word))\n",
    "    print('Результат:', result)\n",
    "    \n",
    "acronym(words)"
   ]
  },
  {
   "cell_type": "code",
   "execution_count": null,
   "metadata": {},
   "outputs": [],
   "source": [
    "# Задание № 4. Напишите функцию, которая будет принимать на вход список email-адресов и выводить их распределение по доменным зонам.\n",
    "\n",
    "emails = ['test@gmail.com', 'xyz@test.in', 'test@ya.ru', 'xyz@mail.ru', 'xyz@ya.ru', 'xyz@gmail.com']\n",
    "\n",
    "def email(list_emails):\n",
    "    emails_dict = dict()\n",
    "    for email in list_emails:\n",
    "        reg = re.search(r'@\\w+\\.\\w+$', email)\n",
    "        if reg.group()[1:] not in emails_dict:\n",
    "            emails_dict.setdefault(reg.group()[1:],1)\n",
    "        else:\n",
    "            emails_dict[reg.group()[1:]] += 1\n",
    "\n",
    "    print('Результат:')\n",
    "    for email, count in emails_dict.items():\n",
    "        print(f'{email}: {count}')  \n",
    "\n",
    "email(emails)"
   ]
  },
  {
   "cell_type": "code",
   "execution_count": null,
   "metadata": {},
   "outputs": [],
   "source": [
    "# Задание № 5. Напишите функцию, которая будет подсчитывать сколько слов начинается на гласные, а сколько на согласные буквы в тексте\n",
    "\n",
    "some_text = 'Эталонной реализацией Python является интерпретатор CPython, поддерживающий большинство активно используемых платформ. \\\n",
    "Он распространяется под свободной лицензией Python Software Foundation License, \\\n",
    "позволяющей использовать его без ограничений в любых приложениях, включая проприетарные.'\n",
    "\n",
    "def counter(text):\n",
    "    consonants = re.findall(r'(?i)(\\b[аоиеёэыуюяaeiou])', text)\n",
    "    vowel = re.findall(r'(?i)(\\b[^аоиеёэыуюяaeiou\\W])', text)\n",
    "    \n",
    "    print(f'Слов на гласные буквы: {len(consonants)}')\n",
    "    print(f'Слов на согласные буквы: {len(vowel)}')\n",
    "\n",
    "counter(some_text)"
   ]
  },
  {
   "cell_type": "code",
   "execution_count": null,
   "metadata": {},
   "outputs": [],
   "source": [
    "# Задание 6. Напишите функцию, которая будет проверять номер сотового телефона на валидность в формат: +7-xxx-xxx-xx-xx\n",
    "\n",
    "phone = ['+7 123 456-78-90', '8(955)555-55-55', '+7 955 555 55 55', '7(955) 555-55-55', '423-555-55-5555', '123-456-789']\n",
    "\n",
    "def change_phone(phones):\n",
    "    for phone in phones:\n",
    "        reg = re.findall(r'(^[\\+7|8]{1,2})[\\s(-](\\d{3})[\\s)-].?(\\d{3})[\\s(-](\\d{2,4})[\\s(-](\\d{2})', phone)\n",
    "        if reg:     \n",
    "            print(f'+7-{reg[0][1]}-{reg[0][2]}-{reg[0][3]}-{reg[0][4]}')\n",
    "        else:\n",
    "            print('Номер не валиден')\n",
    "\n",
    "change_phone(phone)"
   ]
  }
 ],
 "metadata": {
  "kernelspec": {
   "display_name": "Python 3",
   "language": "python",
   "name": "python3"
  },
  "language_info": {
   "codemirror_mode": {
    "name": "ipython",
    "version": 3
   },
   "file_extension": ".py",
   "mimetype": "text/x-python",
   "name": "python",
   "nbconvert_exporter": "python",
   "pygments_lexer": "ipython3",
   "version": "3.7.6"
  }
 },
 "nbformat": 4,
 "nbformat_minor": 4
}
